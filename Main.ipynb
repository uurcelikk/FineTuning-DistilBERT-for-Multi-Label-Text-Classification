{
 "cells": [
  {
   "cell_type": "markdown",
   "id": "5ed07759-3c62-4e8b-a230-535b498119ea",
   "metadata": {
    "tags": []
   },
   "source": [
    "#### Import Libraries"
   ]
  },
  {
   "cell_type": "code",
   "execution_count": null,
   "id": "1e223c15-0b53-482a-ba90-ed074b28f16f",
   "metadata": {
    "tags": []
   },
   "outputs": [],
   "source": [
    "import numpy as np\n",
    "import pandas as pd\n",
    "import matplotlib.pyplot as plt\n",
    "import seaborn as sns\n",
    "\n",
    "import torch\n",
    "from transformers import DistilBertTokenizer, AutoTokenizer\n",
    "from transformers import DistilBertForSequenceClassification, AutoModelForSequenceClassification\n",
    "from sklearn.model_selection import train_test_split\n",
    "from torch.utils.data import Dataset\n",
    "from transformers import EvalPrediction\n",
    "\n",
    "from sklearn.preprocessing import MultiLabelBinarizer\n",
    "\n",
    "from sklearn.metrics import roc_auc_score, f1_score, hamming_loss\n"
   ]
  },
  {
   "cell_type": "code",
   "execution_count": null,
   "id": "d5a3b952-e586-451e-9648-4c2955e48201",
   "metadata": {
    "tags": []
   },
   "outputs": [],
   "source": [
    "!pip install -U accelerate\n",
    "!pip install -U transformers"
   ]
  },
  {
   "cell_type": "code",
   "execution_count": 4,
   "id": "2a5c13d5-4f44-44b8-851c-80c83c6fdac4",
   "metadata": {
    "tags": []
   },
   "outputs": [
    {
     "data": {
      "text/html": [
       "<div>\n",
       "<style scoped>\n",
       "    .dataframe tbody tr th:only-of-type {\n",
       "        vertical-align: middle;\n",
       "    }\n",
       "\n",
       "    .dataframe tbody tr th {\n",
       "        vertical-align: top;\n",
       "    }\n",
       "\n",
       "    .dataframe thead th {\n",
       "        text-align: right;\n",
       "    }\n",
       "</style>\n",
       "<table border=\"1\" class=\"dataframe\">\n",
       "  <thead>\n",
       "    <tr style=\"text-align: right;\">\n",
       "      <th></th>\n",
       "      <th>quote</th>\n",
       "      <th>author</th>\n",
       "      <th>tags</th>\n",
       "    </tr>\n",
       "  </thead>\n",
       "  <tbody>\n",
       "    <tr>\n",
       "      <th>0</th>\n",
       "      <td>“The world as we have created it is a process ...</td>\n",
       "      <td>Albert Einstein</td>\n",
       "      <td>['change', 'deep-thoughts', 'thinking', 'world']</td>\n",
       "    </tr>\n",
       "    <tr>\n",
       "      <th>1</th>\n",
       "      <td>“It is our choices, Harry, that show what we t...</td>\n",
       "      <td>J.K. Rowling</td>\n",
       "      <td>['abilities', 'choices']</td>\n",
       "    </tr>\n",
       "    <tr>\n",
       "      <th>2</th>\n",
       "      <td>“There are only two ways to live your life. On...</td>\n",
       "      <td>Albert Einstein</td>\n",
       "      <td>['inspirational', 'life', 'live', 'miracle', '...</td>\n",
       "    </tr>\n",
       "    <tr>\n",
       "      <th>3</th>\n",
       "      <td>“The person, be it gentleman or lady, who has ...</td>\n",
       "      <td>Jane Austen</td>\n",
       "      <td>['aliteracy', 'books', 'classic', 'humor']</td>\n",
       "    </tr>\n",
       "    <tr>\n",
       "      <th>4</th>\n",
       "      <td>“Imperfection is beauty, madness is genius and...</td>\n",
       "      <td>Marilyn Monroe</td>\n",
       "      <td>['be-yourself', 'inspirational']</td>\n",
       "    </tr>\n",
       "  </tbody>\n",
       "</table>\n",
       "</div>"
      ],
      "text/plain": [
       "                                               quote           author  \\\n",
       "0  “The world as we have created it is a process ...  Albert Einstein   \n",
       "1  “It is our choices, Harry, that show what we t...     J.K. Rowling   \n",
       "2  “There are only two ways to live your life. On...  Albert Einstein   \n",
       "3  “The person, be it gentleman or lady, who has ...      Jane Austen   \n",
       "4  “Imperfection is beauty, madness is genius and...   Marilyn Monroe   \n",
       "\n",
       "                                                tags  \n",
       "0   ['change', 'deep-thoughts', 'thinking', 'world']  \n",
       "1                           ['abilities', 'choices']  \n",
       "2  ['inspirational', 'life', 'live', 'miracle', '...  \n",
       "3         ['aliteracy', 'books', 'classic', 'humor']  \n",
       "4                   ['be-yourself', 'inspirational']  "
      ]
     },
     "execution_count": 4,
     "metadata": {},
     "output_type": "execute_result"
    }
   ],
   "source": [
    "data = pd.read_csv(\"quotes.csv\")\n",
    "data.head()"
   ]
  },
  {
   "cell_type": "code",
   "execution_count": null,
   "id": "da8c32db-e5af-40fa-9233-1e4b93e59ad0",
   "metadata": {
    "tags": []
   },
   "outputs": [],
   "source": []
  },
  {
   "cell_type": "code",
   "execution_count": 5,
   "id": "bd45fc48-b409-4aa2-9b0c-62f47e4c0497",
   "metadata": {
    "tags": []
   },
   "outputs": [
    {
     "data": {
      "text/plain": [
       "author\n",
       "Albert Einstein           10\n",
       "J.K. Rowling               9\n",
       "Marilyn Monroe             7\n",
       "Dr. Seuss                  6\n",
       "Mark Twain                 6\n",
       "C.S. Lewis                 5\n",
       "Jane Austen                5\n",
       "Bob Marley                 3\n",
       "Eleanor Roosevelt          2\n",
       "Charles Bukowski           2\n",
       "Suzanne Collins            2\n",
       "George R.R. Martin         2\n",
       "Ralph Waldo Emerson        2\n",
       "Mother Teresa              2\n",
       "Ernest Hemingway           2\n",
       "J.D. Salinger              1\n",
       "George Bernard Shaw        1\n",
       "J.R.R. Tolkien             1\n",
       "Alfred Tennyson            1\n",
       "Terry Pratchett            1\n",
       "John Lennon                1\n",
       "George Carlin              1\n",
       "W.C. Fields                1\n",
       "Ayn Rand                   1\n",
       "Jimi Hendrix               1\n",
       "J.M. Barrie                1\n",
       "E.E. Cummings              1\n",
       "Khaled Hosseini            1\n",
       "Harper Lee                 1\n",
       "Helen Keller               1\n",
       "Haruki Murakami            1\n",
       "Stephenie Meyer            1\n",
       "Garrison Keillor           1\n",
       "Thomas A. Edison           1\n",
       "Douglas Adams              1\n",
       "Elie Wiesel                1\n",
       "Friedrich Nietzsche        1\n",
       "André Gide                 1\n",
       "Allen Saunders             1\n",
       "Pablo Neruda               1\n",
       "Jim Henson                 1\n",
       "Alexandre Dumas fils       1\n",
       "Charles M. Schulz          1\n",
       "William Nicholson          1\n",
       "Jorge Luis Borges          1\n",
       "George Eliot               1\n",
       "Martin Luther King Jr.     1\n",
       "James Baldwin              1\n",
       "Steve Martin               1\n",
       "Madeleine L'Engle          1\n",
       "Name: count, dtype: int64"
      ]
     },
     "execution_count": 5,
     "metadata": {},
     "output_type": "execute_result"
    }
   ],
   "source": [
    "data['author'].value_counts()"
   ]
  },
  {
   "cell_type": "code",
   "execution_count": 24,
   "id": "3599a26a-7f55-48de-9ee6-6f6d123d6ef4",
   "metadata": {
    "tags": []
   },
   "outputs": [
    {
     "data": {
      "text/html": [
       "<div>\n",
       "<style scoped>\n",
       "    .dataframe tbody tr th:only-of-type {\n",
       "        vertical-align: middle;\n",
       "    }\n",
       "\n",
       "    .dataframe tbody tr th {\n",
       "        vertical-align: top;\n",
       "    }\n",
       "\n",
       "    .dataframe thead th {\n",
       "        text-align: right;\n",
       "    }\n",
       "</style>\n",
       "<table border=\"1\" class=\"dataframe\">\n",
       "  <thead>\n",
       "    <tr style=\"text-align: right;\">\n",
       "      <th></th>\n",
       "      <th>quote</th>\n",
       "      <th>author</th>\n",
       "      <th>tags</th>\n",
       "      <th>word_count</th>\n",
       "      <th>number_count</th>\n",
       "    </tr>\n",
       "  </thead>\n",
       "  <tbody>\n",
       "    <tr>\n",
       "      <th>0</th>\n",
       "      <td>“The world as we have created it is a process ...</td>\n",
       "      <td>Albert Einstein</td>\n",
       "      <td>['change', 'deep-thoughts', 'thinking', 'world']</td>\n",
       "      <td>21</td>\n",
       "      <td>0</td>\n",
       "    </tr>\n",
       "    <tr>\n",
       "      <th>1</th>\n",
       "      <td>“It is our choices, Harry, that show what we t...</td>\n",
       "      <td>J.K. Rowling</td>\n",
       "      <td>['abilities', 'choices']</td>\n",
       "      <td>16</td>\n",
       "      <td>0</td>\n",
       "    </tr>\n",
       "    <tr>\n",
       "      <th>2</th>\n",
       "      <td>“There are only two ways to live your life. On...</td>\n",
       "      <td>Albert Einstein</td>\n",
       "      <td>['inspirational', 'life', 'live', 'miracle', '...</td>\n",
       "      <td>26</td>\n",
       "      <td>0</td>\n",
       "    </tr>\n",
       "    <tr>\n",
       "      <th>3</th>\n",
       "      <td>“The person, be it gentleman or lady, who has ...</td>\n",
       "      <td>Jane Austen</td>\n",
       "      <td>['aliteracy', 'books', 'classic', 'humor']</td>\n",
       "      <td>19</td>\n",
       "      <td>0</td>\n",
       "    </tr>\n",
       "    <tr>\n",
       "      <th>4</th>\n",
       "      <td>“Imperfection is beauty, madness is genius and...</td>\n",
       "      <td>Marilyn Monroe</td>\n",
       "      <td>['be-yourself', 'inspirational']</td>\n",
       "      <td>16</td>\n",
       "      <td>0</td>\n",
       "    </tr>\n",
       "    <tr>\n",
       "      <th>5</th>\n",
       "      <td>“Try not to become a man of success. Rather be...</td>\n",
       "      <td>Albert Einstein</td>\n",
       "      <td>['adulthood', 'success', 'value']</td>\n",
       "      <td>14</td>\n",
       "      <td>0</td>\n",
       "    </tr>\n",
       "    <tr>\n",
       "      <th>6</th>\n",
       "      <td>“It is better to be hated for what you are tha...</td>\n",
       "      <td>André Gide</td>\n",
       "      <td>['life', 'love']</td>\n",
       "      <td>19</td>\n",
       "      <td>0</td>\n",
       "    </tr>\n",
       "    <tr>\n",
       "      <th>7</th>\n",
       "      <td>“I have not failed. I've just found 10,000 way...</td>\n",
       "      <td>Thomas A. Edison</td>\n",
       "      <td>['edison', 'failure', 'inspirational', 'paraph...</td>\n",
       "      <td>12</td>\n",
       "      <td>0</td>\n",
       "    </tr>\n",
       "    <tr>\n",
       "      <th>8</th>\n",
       "      <td>“A woman is like a tea bag; you never know how...</td>\n",
       "      <td>Eleanor Roosevelt</td>\n",
       "      <td>['misattributed-eleanor-roosevelt']</td>\n",
       "      <td>19</td>\n",
       "      <td>0</td>\n",
       "    </tr>\n",
       "    <tr>\n",
       "      <th>9</th>\n",
       "      <td>“A day without sunshine is like, you know, nig...</td>\n",
       "      <td>Steve Martin</td>\n",
       "      <td>['humor', 'obvious', 'simile']</td>\n",
       "      <td>9</td>\n",
       "      <td>0</td>\n",
       "    </tr>\n",
       "  </tbody>\n",
       "</table>\n",
       "</div>"
      ],
      "text/plain": [
       "                                               quote             author  \\\n",
       "0  “The world as we have created it is a process ...    Albert Einstein   \n",
       "1  “It is our choices, Harry, that show what we t...       J.K. Rowling   \n",
       "2  “There are only two ways to live your life. On...    Albert Einstein   \n",
       "3  “The person, be it gentleman or lady, who has ...        Jane Austen   \n",
       "4  “Imperfection is beauty, madness is genius and...     Marilyn Monroe   \n",
       "5  “Try not to become a man of success. Rather be...    Albert Einstein   \n",
       "6  “It is better to be hated for what you are tha...         André Gide   \n",
       "7  “I have not failed. I've just found 10,000 way...   Thomas A. Edison   \n",
       "8  “A woman is like a tea bag; you never know how...  Eleanor Roosevelt   \n",
       "9  “A day without sunshine is like, you know, nig...       Steve Martin   \n",
       "\n",
       "                                                tags  word_count  number_count  \n",
       "0   ['change', 'deep-thoughts', 'thinking', 'world']          21             0  \n",
       "1                           ['abilities', 'choices']          16             0  \n",
       "2  ['inspirational', 'life', 'live', 'miracle', '...          26             0  \n",
       "3         ['aliteracy', 'books', 'classic', 'humor']          19             0  \n",
       "4                   ['be-yourself', 'inspirational']          16             0  \n",
       "5                  ['adulthood', 'success', 'value']          14             0  \n",
       "6                                   ['life', 'love']          19             0  \n",
       "7  ['edison', 'failure', 'inspirational', 'paraph...          12             0  \n",
       "8                ['misattributed-eleanor-roosevelt']          19             0  \n",
       "9                     ['humor', 'obvious', 'simile']           9             0  "
      ]
     },
     "execution_count": 24,
     "metadata": {},
     "output_type": "execute_result"
    }
   ],
   "source": [
    "# Analysis dataset\n",
    "o_df = data.copy()\n",
    "o_df[\"word_count\"] =data[\"quote\"].apply(lambda x: len(str(x).split(\" \")))\n",
    "o_df[\"number_count\"] = data[\"quote\"].apply(lambda x: len([x for x in x.split() \n",
    "                                       if x.isdigit()]))\n",
    "\n",
    "o_df.head(10)"
   ]
  },
  {
   "cell_type": "code",
   "execution_count": 7,
   "id": "a77a4b79-ec68-46b8-8c25-6f4f0dcb7a14",
   "metadata": {
    "tags": []
   },
   "outputs": [
    {
     "data": {
      "text/html": [
       "<div>\n",
       "<style scoped>\n",
       "    .dataframe tbody tr th:only-of-type {\n",
       "        vertical-align: middle;\n",
       "    }\n",
       "\n",
       "    .dataframe tbody tr th {\n",
       "        vertical-align: top;\n",
       "    }\n",
       "\n",
       "    .dataframe thead th {\n",
       "        text-align: right;\n",
       "    }\n",
       "</style>\n",
       "<table border=\"1\" class=\"dataframe\">\n",
       "  <thead>\n",
       "    <tr style=\"text-align: right;\">\n",
       "      <th></th>\n",
       "      <th>quote</th>\n",
       "      <th>author</th>\n",
       "      <th>tags</th>\n",
       "    </tr>\n",
       "  </thead>\n",
       "  <tbody>\n",
       "    <tr>\n",
       "      <th>0</th>\n",
       "      <td>“The world as we have created it is a process ...</td>\n",
       "      <td>Albert Einstein</td>\n",
       "      <td>['change', 'deep-thoughts', 'thinking', 'world']</td>\n",
       "    </tr>\n",
       "    <tr>\n",
       "      <th>1</th>\n",
       "      <td>“It is our choices, Harry, that show what we t...</td>\n",
       "      <td>J.K. Rowling</td>\n",
       "      <td>['abilities', 'choices']</td>\n",
       "    </tr>\n",
       "    <tr>\n",
       "      <th>2</th>\n",
       "      <td>“There are only two ways to live your life. On...</td>\n",
       "      <td>Albert Einstein</td>\n",
       "      <td>['inspirational', 'life', 'live', 'miracle', '...</td>\n",
       "    </tr>\n",
       "    <tr>\n",
       "      <th>3</th>\n",
       "      <td>“The person, be it gentleman or lady, who has ...</td>\n",
       "      <td>Jane Austen</td>\n",
       "      <td>['aliteracy', 'books', 'classic', 'humor']</td>\n",
       "    </tr>\n",
       "    <tr>\n",
       "      <th>4</th>\n",
       "      <td>“Imperfection is beauty, madness is genius and...</td>\n",
       "      <td>Marilyn Monroe</td>\n",
       "      <td>['be-yourself', 'inspirational']</td>\n",
       "    </tr>\n",
       "    <tr>\n",
       "      <th>...</th>\n",
       "      <td>...</td>\n",
       "      <td>...</td>\n",
       "      <td>...</td>\n",
       "    </tr>\n",
       "    <tr>\n",
       "      <th>95</th>\n",
       "      <td>“You never really understand a person until yo...</td>\n",
       "      <td>Harper Lee</td>\n",
       "      <td>['better-life-empathy']</td>\n",
       "    </tr>\n",
       "    <tr>\n",
       "      <th>96</th>\n",
       "      <td>“You have to write the book that wants to be w...</td>\n",
       "      <td>Madeleine L'Engle</td>\n",
       "      <td>['books', 'children', 'difficult', 'grown-ups'...</td>\n",
       "    </tr>\n",
       "    <tr>\n",
       "      <th>97</th>\n",
       "      <td>“Never tell the truth to people who are not wo...</td>\n",
       "      <td>Mark Twain</td>\n",
       "      <td>['truth']</td>\n",
       "    </tr>\n",
       "    <tr>\n",
       "      <th>98</th>\n",
       "      <td>“A person's a person, no matter how small.”</td>\n",
       "      <td>Dr. Seuss</td>\n",
       "      <td>['inspirational']</td>\n",
       "    </tr>\n",
       "    <tr>\n",
       "      <th>99</th>\n",
       "      <td>“... a mind needs books as a sword needs a whe...</td>\n",
       "      <td>George R.R. Martin</td>\n",
       "      <td>['books', 'mind']</td>\n",
       "    </tr>\n",
       "  </tbody>\n",
       "</table>\n",
       "<p>100 rows × 3 columns</p>\n",
       "</div>"
      ],
      "text/plain": [
       "                                                quote              author  \\\n",
       "0   “The world as we have created it is a process ...     Albert Einstein   \n",
       "1   “It is our choices, Harry, that show what we t...        J.K. Rowling   \n",
       "2   “There are only two ways to live your life. On...     Albert Einstein   \n",
       "3   “The person, be it gentleman or lady, who has ...         Jane Austen   \n",
       "4   “Imperfection is beauty, madness is genius and...      Marilyn Monroe   \n",
       "..                                                ...                 ...   \n",
       "95  “You never really understand a person until yo...          Harper Lee   \n",
       "96  “You have to write the book that wants to be w...   Madeleine L'Engle   \n",
       "97  “Never tell the truth to people who are not wo...          Mark Twain   \n",
       "98        “A person's a person, no matter how small.”           Dr. Seuss   \n",
       "99  “... a mind needs books as a sword needs a whe...  George R.R. Martin   \n",
       "\n",
       "                                                 tags  \n",
       "0    ['change', 'deep-thoughts', 'thinking', 'world']  \n",
       "1                            ['abilities', 'choices']  \n",
       "2   ['inspirational', 'life', 'live', 'miracle', '...  \n",
       "3          ['aliteracy', 'books', 'classic', 'humor']  \n",
       "4                    ['be-yourself', 'inspirational']  \n",
       "..                                                ...  \n",
       "95                            ['better-life-empathy']  \n",
       "96  ['books', 'children', 'difficult', 'grown-ups'...  \n",
       "97                                          ['truth']  \n",
       "98                                  ['inspirational']  \n",
       "99                                  ['books', 'mind']  \n",
       "\n",
       "[100 rows x 3 columns]"
      ]
     },
     "execution_count": 7,
     "metadata": {},
     "output_type": "execute_result"
    }
   ],
   "source": [
    "df = data.copy()\n",
    "df"
   ]
  },
  {
   "cell_type": "markdown",
   "id": "eb44d103-10ab-4bc7-a33e-0fb3878a6ddd",
   "metadata": {
    "tags": []
   },
   "source": [
    "## Label Encoder\n",
    "This code prepares the data for a multi-label classification task where you have quotes as text data and multiple tags associated with each quote. The MultiLabelBinarizer ensures that the tags are represented in a suitable format for training a multi-label classification model."
   ]
  },
  {
   "cell_type": "code",
   "execution_count": 9,
   "id": "cd061c5d-5a0a-4acb-a3c8-2a7aaf87ccc0",
   "metadata": {
    "tags": []
   },
   "outputs": [],
   "source": [
    "multilabel = MultiLabelBinarizer()\n",
    "\n",
    "labels = multilabel.fit_transform(df['tags']).astype('float32')\n",
    "\n",
    "texts = df['quote'].tolist()"
   ]
  },
  {
   "cell_type": "code",
   "execution_count": 10,
   "id": "353e2a5f-172b-44f5-97d7-5a9175a9c02c",
   "metadata": {
    "tags": []
   },
   "outputs": [
    {
     "data": {
      "text/plain": [
       "['“The world as we have created it is a process of our thinking. It cannot be changed without changing our thinking.”',\n",
       " '“It is our choices, Harry, that show what we truly are, far more than our abilities.”',\n",
       " '“There are only two ways to live your life. One is as though nothing is a miracle. The other is as though everything is a miracle.”',\n",
       " '“The person, be it gentleman or lady, who has not pleasure in a good novel, must be intolerably stupid.”',\n",
       " \"“Imperfection is beauty, madness is genius and it's better to be absolutely ridiculous than absolutely boring.”\"]"
      ]
     },
     "execution_count": 10,
     "metadata": {},
     "output_type": "execute_result"
    }
   ],
   "source": [
    "labels\n",
    "texts[:5]"
   ]
  },
  {
   "cell_type": "markdown",
   "id": "33f61fb8-481e-4a72-bc13-91a5164eedaa",
   "metadata": {},
   "source": [
    "### Model Building "
   ]
  },
  {
   "cell_type": "code",
   "execution_count": 12,
   "id": "9204e6ae-678c-45da-9691-19cbb5c64508",
   "metadata": {
    "tags": []
   },
   "outputs": [],
   "source": [
    "train_texts, val_texts, train_labels, val_labels = train_test_split(texts, labels,\n",
    "                                                                    test_size=0.2, random_state=42)"
   ]
  },
  {
   "cell_type": "code",
   "execution_count": 13,
   "id": "39e520c0-3169-4282-a735-efe909dc7541",
   "metadata": {
    "tags": []
   },
   "outputs": [
    {
     "data": {
      "application/vnd.jupyter.widget-view+json": {
       "model_id": "08664e5ec6664c238ff878fa0733afa7",
       "version_major": 2,
       "version_minor": 0
      },
      "text/plain": [
       "tokenizer_config.json:   0%|          | 0.00/28.0 [00:00<?, ?B/s]"
      ]
     },
     "metadata": {},
     "output_type": "display_data"
    },
    {
     "name": "stderr",
     "output_type": "stream",
     "text": [
      "C:\\Users\\uurce\\anaconda3\\Lib\\site-packages\\huggingface_hub\\file_download.py:148: UserWarning: `huggingface_hub` cache-system uses symlinks by default to efficiently store duplicated files but your machine does not support them in C:\\Users\\uurce\\.cache\\huggingface\\hub\\models--distilbert-base-uncased. Caching files will still work but in a degraded version that might require more space on your disk. This warning can be disabled by setting the `HF_HUB_DISABLE_SYMLINKS_WARNING` environment variable. For more details, see https://huggingface.co/docs/huggingface_hub/how-to-cache#limitations.\n",
      "To support symlinks on Windows, you either need to activate Developer Mode or to run Python as an administrator. In order to see activate developer mode, see this article: https://docs.microsoft.com/en-us/windows/apps/get-started/enable-your-device-for-development\n",
      "  warnings.warn(message)\n"
     ]
    },
    {
     "data": {
      "application/vnd.jupyter.widget-view+json": {
       "model_id": "76710b1465fe4a0e8ec053f97f395cac",
       "version_major": 2,
       "version_minor": 0
      },
      "text/plain": [
       "vocab.txt:   0%|          | 0.00/232k [00:00<?, ?B/s]"
      ]
     },
     "metadata": {},
     "output_type": "display_data"
    },
    {
     "data": {
      "application/vnd.jupyter.widget-view+json": {
       "model_id": "7bcae56115da4a99ba0f04941335166a",
       "version_major": 2,
       "version_minor": 0
      },
      "text/plain": [
       "tokenizer.json:   0%|          | 0.00/466k [00:00<?, ?B/s]"
      ]
     },
     "metadata": {},
     "output_type": "display_data"
    },
    {
     "data": {
      "application/vnd.jupyter.widget-view+json": {
       "model_id": "b7d5e37975aa4ec78ad9dc4a0710d643",
       "version_major": 2,
       "version_minor": 0
      },
      "text/plain": [
       "config.json:   0%|          | 0.00/483 [00:00<?, ?B/s]"
      ]
     },
     "metadata": {},
     "output_type": "display_data"
    },
    {
     "data": {
      "application/vnd.jupyter.widget-view+json": {
       "model_id": "30d810358e2543bf9b39db497bc5b343",
       "version_major": 2,
       "version_minor": 0
      },
      "text/plain": [
       "model.safetensors:   0%|          | 0.00/268M [00:00<?, ?B/s]"
      ]
     },
     "metadata": {},
     "output_type": "display_data"
    },
    {
     "name": "stderr",
     "output_type": "stream",
     "text": [
      "Some weights of DistilBertForSequenceClassification were not initialized from the model checkpoint at distilbert-base-uncased and are newly initialized: ['classifier.bias', 'classifier.weight', 'pre_classifier.bias', 'pre_classifier.weight']\n",
      "You should probably TRAIN this model on a down-stream task to be able to use it for predictions and inference.\n"
     ]
    }
   ],
   "source": [
    "checkpoint = \"distilbert-base-uncased\"\n",
    "tokenizer = DistilBertTokenizer.from_pretrained(checkpoint)\n",
    "model = DistilBertForSequenceClassification.from_pretrained(checkpoint, num_labels=len(labels[0]),\n",
    "                                                            problem_type=\"multi_label_classification\")"
   ]
  },
  {
   "cell_type": "code",
   "execution_count": 14,
   "id": "b9f105f5-1e90-45d7-841f-b5cb19ad4ce6",
   "metadata": {
    "tags": []
   },
   "outputs": [],
   "source": [
    "class CustomDataset(Dataset):\n",
    "    def __init__(self, texts, labels, tokenizer, max_len=128):\n",
    "        self.texts = texts\n",
    "        self.labels = labels\n",
    "        self.tokenizer = tokenizer\n",
    "        self.max_len = max_len\n",
    "\n",
    "    def __len__(self):\n",
    "        return len(self.texts)\n",
    "\n",
    "    def __getitem__(self, idx):\n",
    "        text = str(self.texts[idx])\n",
    "        label = torch.tensor(self.labels[idx])\n",
    "\n",
    "        encoding = self.tokenizer(\n",
    "            text,\n",
    "            truncation=True,\n",
    "            padding=\"max_length\",\n",
    "            max_length=self.max_len,\n",
    "            return_tensors='pt'\n",
    "        )\n",
    "\n",
    "        return {\n",
    "            'input_ids': encoding['input_ids'].flatten(),\n",
    "            'attention_mask': encoding['attention_mask'].flatten(),\n",
    "            'labels': label\n",
    "        }\n"
   ]
  },
  {
   "cell_type": "code",
   "execution_count": 15,
   "id": "66307338-d8e7-4db3-acc0-a44c35611b7d",
   "metadata": {
    "tags": []
   },
   "outputs": [],
   "source": [
    "train_dataset = CustomDataset(train_texts, train_labels, tokenizer)\n",
    "val_dataset = CustomDataset(val_texts, val_labels, tokenizer)"
   ]
  },
  {
   "cell_type": "code",
   "execution_count": 26,
   "id": "179deab5-756e-4858-a2e8-ae1db8f07acd",
   "metadata": {
    "tags": []
   },
   "outputs": [],
   "source": [
    "\n",
    "\n",
    "\n",
    "def multi_labels_metrics(predictions, labels, threshold=0.3):\n",
    "    sigmoid = torch.nn.Sigmoid()\n",
    "    probs = sigmoid(torch.Tensor(predictions))\n",
    "\n",
    "    y_pred = np.zeros(probs.shape)\n",
    "    y_pred[np.where(probs >= threshold)] = 1\n",
    "    y_true = labels\n",
    "\n",
    "    metrics = {}\n",
    "\n",
    "    if len(np.unique(y_true)) > 1:  # Check if there are more than one class in y_true\n",
    "        f1 = f1_score(y_true, y_pred, average='macro')\n",
    "        roc_auc = roc_auc_score(y_true, y_pred, average='macro')\n",
    "        hamming = hamming_loss(y_true, y_pred)\n",
    "\n",
    "        metrics = {\n",
    "            \"roc_auc\": roc_auc,\n",
    "            \"hamming_loss\": hamming,\n",
    "            \"f1\": f1\n",
    "        }\n",
    "\n",
    "    return metrics\n",
    "def compute_metrics(p:EvalPrediction):\n",
    "   preds = p.predictions[0] if isinstance(p.predictions, tuple) else p.predictions\n",
    "\n",
    "   result = multi_labels_metrics(predictions=preds,\n",
    "                                labels=p.label_ids)\n",
    "\n",
    "   return result "
   ]
  },
  {
   "cell_type": "code",
   "execution_count": 27,
   "id": "65ddf1b1-39cc-475c-b617-b669fdbee14c",
   "metadata": {
    "tags": []
   },
   "outputs": [
    {
     "name": "stderr",
     "output_type": "stream",
     "text": [
      "C:\\Users\\uurce\\anaconda3\\Lib\\site-packages\\accelerate\\accelerator.py:436: FutureWarning: Passing the following arguments to `Accelerator` is deprecated and will be removed in version 1.0 of Accelerate: dict_keys(['dispatch_batches', 'split_batches', 'even_batches', 'use_seedable_sampler']). Please pass an `accelerate.DataLoaderConfiguration` instead: \n",
      "dataloader_config = DataLoaderConfiguration(dispatch_batches=None, split_batches=False, even_batches=True, use_seedable_sampler=True)\n",
      "  warnings.warn(\n"
     ]
    }
   ],
   "source": [
    "from transformers import TrainingArguments, Trainer\n",
    "\n",
    "args = TrainingArguments(\n",
    "    per_device_train_batch_size=8,\n",
    "    per_device_eval_batch_size=8,\n",
    "    output_dir = './results',\n",
    "    num_train_epochs=5,\n",
    "    save_steps=1000,\n",
    "    save_total_limit=2\n",
    ")\n",
    "\n",
    "trainer = Trainer(model=model,\n",
    "                  args=args,\n",
    "                  train_dataset=train_dataset,\n",
    "                  eval_dataset = val_dataset,\n",
    "                  compute_metrics=compute_metrics)"
   ]
  },
  {
   "cell_type": "code",
   "execution_count": 28,
   "id": "7ff1d549-7232-47e1-843f-4a998e87d84e",
   "metadata": {
    "tags": []
   },
   "outputs": [
    {
     "data": {
      "text/html": [
       "\n",
       "    <div>\n",
       "      \n",
       "      <progress value='50' max='50' style='width:300px; height:20px; vertical-align: middle;'></progress>\n",
       "      [50/50 02:04, Epoch 5/5]\n",
       "    </div>\n",
       "    <table border=\"1\" class=\"dataframe\">\n",
       "  <thead>\n",
       " <tr style=\"text-align: left;\">\n",
       "      <th>Step</th>\n",
       "      <th>Training Loss</th>\n",
       "    </tr>\n",
       "  </thead>\n",
       "  <tbody>\n",
       "  </tbody>\n",
       "</table><p>"
      ],
      "text/plain": [
       "<IPython.core.display.HTML object>"
      ]
     },
     "metadata": {},
     "output_type": "display_data"
    },
    {
     "data": {
      "text/plain": [
       "TrainOutput(global_step=50, training_loss=0.4995375442504883, metrics={'train_runtime': 126.3955, 'train_samples_per_second': 3.165, 'train_steps_per_second': 0.396, 'total_flos': 13253590732800.0, 'train_loss': 0.4995375442504883, 'epoch': 5.0})"
      ]
     },
     "execution_count": 28,
     "metadata": {},
     "output_type": "execute_result"
    }
   ],
   "source": [
    "trainer.train()"
   ]
  },
  {
   "cell_type": "code",
   "execution_count": null,
   "id": "8e875967-a80f-437a-afdb-b7fae0b65e09",
   "metadata": {
    "tags": []
   },
   "outputs": [],
   "source": [
    "trainer.evaluate()"
   ]
  },
  {
   "cell_type": "markdown",
   "id": "f2e4da3d-5224-4d6a-885e-79c7b851b7a5",
   "metadata": {},
   "source": [
    "# Questions"
   ]
  },
  {
   "cell_type": "markdown",
   "id": "6d8d6d9e-68a7-4761-9a7f-886d7df01862",
   "metadata": {},
   "source": [
    "**Where could you use such a project?**\n",
    "- Recently, with the increase in studies, many articles are published during the day. It can be used to categorise scientific articles into disciplines such as medicine, physics, biology, etc. It can be used to determine which research field or subfield the articles belong to.\n",
    "- LLMs can understand and translate multiple languages. This capability allows you to use your DistilBERT model to classify multilingual texts. LLMs can understand the semantic similarities and differences of texts in different languages. This can help your DistilBERT model overcome language barriers and serve a global audience."
   ]
  },
  {
   "cell_type": "markdown",
   "id": "3e65ab48-c44f-400d-b112-7b6d5b87ce2d",
   "metadata": {},
   "source": [
    "### Convert text data into numeric data\n",
    "- What are the options? (At most 1 sentence for each technique is enough)\n",
    "- Why did you choose your option ? "
   ]
  },
  {
   "cell_type": "markdown",
   "id": "c4a0fb82-d992-43e7-8467-2fa4058c3e2c",
   "metadata": {},
   "source": [
    "- Label Encoding: Assigns a unique integer to each unique textual category.\n",
    "- One-Hot Encoding: Creates a new binary column for each unique category, indicating presence or absence.\n",
    "- Count Vectorization: Creates a matrix with each row representing a document and columns representing unique words; values indicate word frequencies.\n",
    "- TF-IDF: Determines the importance of a word by calculating how often a word occurs in a document (term frequency) and how common that word is in all documents (inverse document frequency).\n",
    "\n",
    "\n",
    "\n",
    "I chose Label encoder because it is faster than other encoders, which makes it an ideal choice for real-time applications. Also, since there are multiple labels in my dataset, Label encoding is not limited to a single label but can handle multiple labels directly. This helps me to better capture complex relationships in the dataset."
   ]
  },
  {
   "cell_type": "code",
   "execution_count": null,
   "id": "ad9a142e-3fef-4a11-bbe6-9e6c7c999988",
   "metadata": {},
   "outputs": [],
   "source": []
  }
 ],
 "metadata": {
  "kernelspec": {
   "display_name": "Python 3 (ipykernel)",
   "language": "python",
   "name": "python3"
  },
  "language_info": {
   "codemirror_mode": {
    "name": "ipython",
    "version": 3
   },
   "file_extension": ".py",
   "mimetype": "text/x-python",
   "name": "python",
   "nbconvert_exporter": "python",
   "pygments_lexer": "ipython3",
   "version": "3.11.5"
  }
 },
 "nbformat": 4,
 "nbformat_minor": 5
}
